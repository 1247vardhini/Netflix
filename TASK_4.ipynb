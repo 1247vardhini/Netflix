{
  "nbformat": 4,
  "nbformat_minor": 0,
  "metadata": {
    "colab": {
      "provenance": [],
      "authorship_tag": "ABX9TyPO/kbcadSgE7KB243cCSEl",
      "include_colab_link": true
    },
    "kernelspec": {
      "name": "python3",
      "display_name": "Python 3"
    },
    "language_info": {
      "name": "python"
    }
  },
  "cells": [
    {
      "cell_type": "markdown",
      "metadata": {
        "id": "view-in-github",
        "colab_type": "text"
      },
      "source": [
        "<a href=\"https://colab.research.google.com/github/1247vardhini/Netflix/blob/main/TASK_4.ipynb\" target=\"_parent\"><img src=\"https://colab.research.google.com/assets/colab-badge.svg\" alt=\"Open In Colab\"/></a>"
      ]
    },
    {
      "cell_type": "code",
      "execution_count": 1,
      "metadata": {
        "colab": {
          "base_uri": "https://localhost:8080/"
        },
        "id": "KpndEFCJSSQd",
        "outputId": "e6999376-1dce-4469-ad9e-b449541cf2b4"
      },
      "outputs": [
        {
          "output_type": "stream",
          "name": "stdout",
          "text": [
            "\n",
            "🌡️ Temperature Converter\n",
            "1. Convert Celsius to Fahrenheit\n",
            "2. Convert Fahrenheit to Celsius\n",
            "Select an option (1 or 2): 1\n",
            "Enter the temperature value: 47\n",
            "\n",
            "✅ 47.00°C is 116.60°F\n"
          ]
        }
      ],
      "source": [
        "# -------------------------------\n",
        "# Temperature Converter Program\n",
        "# Author: [Your Name]\n",
        "# Internship: Cognifyz Technologies\n",
        "# Level: Intermediate Task\n",
        "# -------------------------------\n",
        "\n",
        "def celsius_to_fahrenheit(c):\n",
        "    \"\"\"Convert Celsius to Fahrenheit.\"\"\"\n",
        "    return (c * 9 / 5) + 32\n",
        "\n",
        "def fahrenheit_to_celsius(f):\n",
        "    \"\"\"Convert Fahrenheit to Celsius.\"\"\"\n",
        "    return (f - 32) * 5 / 9\n",
        "\n",
        "def get_valid_temperature():\n",
        "    \"\"\"Prompt user until a valid number is entered.\"\"\"\n",
        "    while True:\n",
        "        temp_input = input(\"Enter the temperature value: \").strip()\n",
        "        try:\n",
        "            return float(temp_input)\n",
        "        except ValueError:\n",
        "            print(\"❌ Please enter a valid numeric temperature.\")\n",
        "\n",
        "def show_menu():\n",
        "    \"\"\"Display conversion options to the user.\"\"\"\n",
        "    print(\"\\n🌡️ Temperature Converter\")\n",
        "    print(\"1. Convert Celsius to Fahrenheit\")\n",
        "    print(\"2. Convert Fahrenheit to Celsius\")\n",
        "\n",
        "def main():\n",
        "    \"\"\"Main driver function.\"\"\"\n",
        "    show_menu()\n",
        "    choice = input(\"Select an option (1 or 2): \").strip()\n",
        "\n",
        "    if choice == \"1\":\n",
        "        celsius = get_valid_temperature()\n",
        "        fahrenheit = celsius_to_fahrenheit(celsius)\n",
        "        print(f\"\\n✅ {celsius:.2f}°C is {fahrenheit:.2f}°F\")\n",
        "    elif choice == \"2\":\n",
        "        fahrenheit = get_valid_temperature()\n",
        "        celsius = fahrenheit_to_celsius(fahrenheit)\n",
        "        print(f\"\\n✅ {fahrenheit:.2f}°F is {celsius:.2f}°C\")\n",
        "    else:\n",
        "        print(\"❌ Invalid option! Please run the program again and choose 1 or 2.\")\n",
        "\n",
        "if __name__ == \"__main__\":\n",
        "    main()\n"
      ]
    }
  ]
}